{
  "metadata": {
    "colab": {
      "provenance": [],
      "machine_shape": "hm",
      "collapsed_sections": [
        "6Wb04YC9w9MR",
        "hV3Y-K9XxCix"
      ]
    },
    "kernelspec": {
      "name": "python3",
      "display_name": "Python 3"
    },
    "language_info": {
      "name": "python",
      "version": "3.10.13",
      "mimetype": "text/x-python",
      "codemirror_mode": {
        "name": "ipython",
        "version": 3
      },
      "pygments_lexer": "ipython3",
      "nbconvert_exporter": "python",
      "file_extension": ".py"
    },
    "kaggle": {
      "accelerator": "none",
      "dataSources": [],
      "dockerImageVersionId": 30673,
      "isInternetEnabled": true,
      "language": "python",
      "sourceType": "notebook",
      "isGpuEnabled": false
    }
  },
  "nbformat_minor": 0,
  "nbformat": 4,
  "cells": [
    {
      "cell_type": "markdown",
      "source": [
        "### Semitic_preprocessor"
      ],
      "metadata": {
        "id": "6Wb04YC9w9MR"
      }
    },
    {
      "cell_type": "code",
      "source": [
        "import numpy as np\n",
        "\n",
        "class Semitic_preprocessor:\n",
        "  @staticmethod\n",
        "  def string_vectorizer(string, vocabulary, max_len):\n",
        "    empty = Semitic_preprocessor.empty_matrix(max_len, vocabulary)\n",
        "    for i,l in enumerate(string):\n",
        "      empty[i, vocabulary.index(l)] = 1\n",
        "    return empty\n",
        "\n",
        "\n",
        "  @staticmethod\n",
        "  def create_vocabulary(list_of_words):\n",
        "    vocabulary = set(''.join(list_of_words))\n",
        "    vocabulary = sorted([i for i in vocabulary])\n",
        "    return vocabulary\n",
        "\n",
        "\n",
        "  @staticmethod\n",
        "  def empty_matrix(max_len, vocabulary):\n",
        "    array = []\n",
        "    for i in range(max_len):\n",
        "      array.append([0] * len(vocabulary))\n",
        "    return np.array(array)\n",
        "\n",
        "  @staticmethod\n",
        "  def generate_report(model, model_history):\n",
        "    pass"
      ],
      "metadata": {
        "id": "EdcN-v88hmQA",
        "execution": {
          "iopub.status.busy": "2024-03-25T09:26:42.271158Z",
          "iopub.execute_input": "2024-03-25T09:26:42.271819Z",
          "iopub.status.idle": "2024-03-25T09:26:42.281019Z",
          "shell.execute_reply.started": "2024-03-25T09:26:42.271775Z",
          "shell.execute_reply": "2024-03-25T09:26:42.279797Z"
        },
        "trusted": true
      },
      "execution_count": 1,
      "outputs": []
    },
    {
      "cell_type": "markdown",
      "source": [
        "### Data"
      ],
      "metadata": {
        "id": "hV3Y-K9XxCix"
      }
    },
    {
      "cell_type": "code",
      "source": [
        "!git clone https://github.com/delmedigo88/Semitic.git"
      ],
      "metadata": {
        "colab": {
          "base_uri": "https://localhost:8080/"
        },
        "id": "J8pWaUjbw9Wx",
        "outputId": "e1b1db10-2730-4329-8e40-e76fdb6d93a8",
        "execution": {
          "iopub.status.busy": "2024-03-25T09:26:45.639275Z",
          "iopub.execute_input": "2024-03-25T09:26:45.639890Z",
          "iopub.status.idle": "2024-03-25T09:26:48.379243Z",
          "shell.execute_reply.started": "2024-03-25T09:26:45.639858Z",
          "shell.execute_reply": "2024-03-25T09:26:48.377876Z"
        },
        "trusted": true
      },
      "execution_count": 2,
      "outputs": [
        {
          "output_type": "stream",
          "name": "stdout",
          "text": [
            "Cloning into 'Semitic'...\n",
            "remote: Enumerating objects: 73, done.\u001b[K\n",
            "remote: Counting objects: 100% (73/73), done.\u001b[K\n",
            "remote: Compressing objects: 100% (66/66), done.\u001b[K\n",
            "remote: Total 73 (delta 12), reused 60 (delta 5), pack-reused 0\u001b[K\n",
            "Receiving objects: 100% (73/73), 25.47 MiB | 11.53 MiB/s, done.\n",
            "Resolving deltas: 100% (12/12), done.\n"
          ]
        }
      ]
    },
    {
      "cell_type": "code",
      "source": [
        "# load all neccessary packages\n",
        "import pandas as pd\n",
        "import numpy as np\n",
        "import matplotlib.pyplot as plt\n",
        "import seaborn as sns\n",
        "import tensorflow as tf\n",
        "from sklearn.model_selection import train_test_split\n",
        "from tensorflow.keras import models, layers\n",
        "from sklearn.preprocessing import OneHotEncoder"
      ],
      "metadata": {
        "id": "z_Fg-SgyVpL8"
      },
      "execution_count": 3,
      "outputs": []
    },
    {
      "cell_type": "code",
      "source": [
        "# define type of model\n",
        "\n",
        "model_type = 'full_char'\n",
        "max_word_length = 8"
      ],
      "metadata": {
        "id": "TJCpyrTRUxOc"
      },
      "execution_count": 4,
      "outputs": []
    },
    {
      "cell_type": "code",
      "source": [
        "# Read txt files directly from raw file on Github\n",
        "\n",
        "df = pd.read_csv(\"Semitic/data/arabic_words_clean.csv\",\n",
        "                 # separate by # the word and root\n",
        "                 encoding_errors= \"ignore\")\n",
        "\n",
        "df_2side=df.sample(frac=.05, random_state=1)\n",
        "df.drop(df_2side.index, axis=0, inplace=True)\n",
        "#df_2side.to_excel('word-root-table_side.xlsx', index=False)"
      ],
      "metadata": {
        "id": "BwkRkIUliCkT",
        "execution": {
          "iopub.status.busy": "2024-03-25T09:27:14.337778Z",
          "iopub.execute_input": "2024-03-25T09:27:14.338205Z",
          "iopub.status.idle": "2024-03-25T09:27:15.547041Z",
          "shell.execute_reply.started": "2024-03-25T09:27:14.338176Z",
          "shell.execute_reply": "2024-03-25T09:27:15.545785Z"
        },
        "trusted": true
      },
      "execution_count": 5,
      "outputs": []
    },
    {
      "cell_type": "markdown",
      "source": [
        "## Three Letters Prediction"
      ],
      "metadata": {
        "id": "mME0ggL1ZF4N"
      }
    },
    {
      "cell_type": "code",
      "source": [
        "# text data to matrix representation\n",
        "\n",
        "sp = Semitic_preprocessor()\n",
        "\n",
        "arabic_vocabulary = sp.create_vocabulary(df['word'])\n",
        "test_df = df.copy()\n",
        "\n",
        "test_df['word_as_matrix'] = test_df['word'].apply(lambda x: sp.string_vectorizer(x, arabic_vocabulary, max_word_length))\n",
        "test_df['first_letter'] = test_df['root'].apply(lambda x: x[:3])\n",
        "test_df['letter_as_matrix'] = test_df['first_letter'].apply(lambda x: sp.string_vectorizer(x, arabic_vocabulary, 3))\n",
        "\n",
        "X = np.stack(test_df['word_as_matrix'].to_numpy())\n",
        "y = np.stack(test_df['letter_as_matrix'].to_numpy())\n",
        "\n",
        "print(f' The shape of X is: {X.shape}')\n",
        "print(f' The shape of y is: {y.shape}')"
      ],
      "metadata": {
        "id": "271b2edJyri0",
        "colab": {
          "base_uri": "https://localhost:8080/"
        },
        "outputId": "6d054114-a9b3-4ef5-9de7-a975c699045d",
        "execution": {
          "iopub.status.busy": "2024-03-25T09:32:43.863759Z",
          "iopub.execute_input": "2024-03-25T09:32:43.864193Z",
          "iopub.status.idle": "2024-03-25T09:33:16.206871Z",
          "shell.execute_reply.started": "2024-03-25T09:32:43.864158Z",
          "shell.execute_reply": "2024-03-25T09:33:16.205661Z"
        },
        "trusted": true
      },
      "execution_count": 6,
      "outputs": [
        {
          "output_type": "stream",
          "name": "stdout",
          "text": [
            " The shape of X is: (838490, 8, 36)\n",
            " The shape of y is: (838490, 3, 36)\n"
          ]
        }
      ]
    },
    {
      "cell_type": "code",
      "source": [
        "# define hyper-parameters\n",
        "\n",
        "hyper_param = dict(num_epochs = 15,\n",
        "                   loss_func ='mean_squared_error',\n",
        "                   lr = .01, batch_size= 64, test_size = .15,\n",
        "                   activation_func = 'relu', output_activation = 'linear',\n",
        "                   validation_split = .1,\n",
        "                   random_state = 42)\n",
        "\n",
        "# Split the data into training and testing| sets\n",
        "\n",
        "X_train, X_test, y_train, y_test = train_test_split(X, y,\n",
        "                                                    test_size = hyper_param['test_size'],\n",
        "                                                    random_state= hyper_param['random_state'])\n",
        "\n",
        "# reshape data for LSTM\n",
        "\n",
        "X_train_reshaped = X_train.reshape(X_train.shape[0], 1, X_train.shape[1] * len(arabic_vocabulary))\n",
        "y_train_reshaped = y_train.reshape(y_train.shape[0], 1, y_train.shape[1] * len(arabic_vocabulary))\n",
        "X_test_reshaped = X_test.reshape(X_test.shape[0], 1, X_test.shape[1] * len(arabic_vocabulary))\n",
        "y_test_reshaped = y_test.reshape(y_test.shape[0], 1, y_test.shape[1] * len(arabic_vocabulary))\n",
        "\n",
        "print(f\"X_train shape: {X_train_reshaped.shape}\")\n",
        "print(f\"y_train shape: {y_train_reshaped.shape}\")"
      ],
      "metadata": {
        "execution": {
          "iopub.status.busy": "2024-03-25T10:12:06.400497Z",
          "iopub.execute_input": "2024-03-25T10:12:06.401571Z",
          "iopub.status.idle": "2024-03-25T10:12:06.407848Z",
          "shell.execute_reply.started": "2024-03-25T10:12:06.401518Z",
          "shell.execute_reply": "2024-03-25T10:12:06.406121Z"
        },
        "trusted": true,
        "id": "VEcTfNciGSJW",
        "colab": {
          "base_uri": "https://localhost:8080/"
        },
        "outputId": "02532d19-4f6e-4d04-ba8a-5e412b90ea30"
      },
      "execution_count": 7,
      "outputs": [
        {
          "output_type": "stream",
          "name": "stdout",
          "text": [
            "X_train shape: (712716, 1, 288)\n",
            "y_train shape: (712716, 1, 108)\n"
          ]
        }
      ]
    },
    {
      "cell_type": "code",
      "source": [
        "# build LSTM architechture\n",
        "from tensorflow.keras.layers import LSTM, Bidirectional, Dropout, Reshape, Dense\n",
        "from tensorflow.keras.layers import RepeatVector, TimeDistributed\n",
        "from tensorflow.keras.models import Sequential\n",
        "\n",
        "model = Sequential()\n",
        "model.add(LSTM(100, input_shape=(8, 36)))\n",
        "model.add(RepeatVector(3))\n",
        "model.add(LSTM(50, return_sequences=True))\n",
        "\n",
        "\n",
        "model.add(TimeDistributed(Dense(36)))\n",
        "\n",
        "\n",
        "adam_optimizer = tf.keras.optimizers.Adam(learning_rate=hyper_param['lr'])\n",
        "\n",
        "# compile the model\n",
        "\n",
        "model.compile(optimizer = adam_optimizer,\n",
        "                  loss= 'mse',\n",
        "                  metrics=['accuracy'])"
      ],
      "metadata": {
        "id": "jiwOzcHlHBTy"
      },
      "execution_count": 13,
      "outputs": []
    },
    {
      "cell_type": "code",
      "source": [
        "# Fit the model\n",
        "\n",
        "\n",
        "# Fit the model\n",
        "\n",
        "model.fit(X_train, y_train,\n",
        "          epochs =15, batch_size= 64, validation_split = .1)\n",
        "\n",
        "# Evaluate the model on the test set\n",
        "\n",
        "loss, accuracy = model.evaluate(X_test, y_test)\n",
        "print(f'Test Loss: {loss}, Test Accuracy: {accuracy}')\n"
      ],
      "metadata": {
        "colab": {
          "base_uri": "https://localhost:8080/"
        },
        "id": "SOOCxq7ZWTd7",
        "outputId": "e7fcf0bd-df38-435d-a462-a06b9142dbb1"
      },
      "execution_count": 14,
      "outputs": [
        {
          "output_type": "stream",
          "name": "stdout",
          "text": [
            "Epoch 1/15\n",
            "10023/10023 [==============================] - 134s 13ms/step - loss: 0.0035 - accuracy: 0.9262 - val_loss: 0.0019 - val_accuracy: 0.9595\n",
            "Epoch 2/15\n",
            "10023/10023 [==============================] - 128s 13ms/step - loss: 0.0017 - accuracy: 0.9647 - val_loss: 0.0017 - val_accuracy: 0.9647\n",
            "Epoch 3/15\n",
            "10023/10023 [==============================] - 129s 13ms/step - loss: 0.0015 - accuracy: 0.9696 - val_loss: 0.0014 - val_accuracy: 0.9701\n",
            "Epoch 4/15\n",
            "10023/10023 [==============================] - 129s 13ms/step - loss: 0.0013 - accuracy: 0.9724 - val_loss: 0.0014 - val_accuracy: 0.9715\n",
            "Epoch 5/15\n",
            "10023/10023 [==============================] - 132s 13ms/step - loss: 0.0013 - accuracy: 0.9742 - val_loss: 0.0013 - val_accuracy: 0.9735\n",
            "Epoch 6/15\n",
            "10023/10023 [==============================] - 128s 13ms/step - loss: 0.0012 - accuracy: 0.9754 - val_loss: 0.0013 - val_accuracy: 0.9735\n",
            "Epoch 7/15\n",
            "10023/10023 [==============================] - 128s 13ms/step - loss: 0.0012 - accuracy: 0.9766 - val_loss: 0.0013 - val_accuracy: 0.9740\n",
            "Epoch 8/15\n",
            "10023/10023 [==============================] - 129s 13ms/step - loss: 0.0011 - accuracy: 0.9772 - val_loss: 0.0012 - val_accuracy: 0.9752\n",
            "Epoch 9/15\n",
            "10023/10023 [==============================] - 130s 13ms/step - loss: 0.0011 - accuracy: 0.9779 - val_loss: 0.0012 - val_accuracy: 0.9763\n",
            "Epoch 10/15\n",
            "10023/10023 [==============================] - 127s 13ms/step - loss: 0.0011 - accuracy: 0.9786 - val_loss: 0.0012 - val_accuracy: 0.9759\n",
            "Epoch 11/15\n",
            "10023/10023 [==============================] - 127s 13ms/step - loss: 0.0011 - accuracy: 0.9788 - val_loss: 0.0012 - val_accuracy: 0.9770\n",
            "Epoch 12/15\n",
            "10023/10023 [==============================] - 133s 13ms/step - loss: 0.0010 - accuracy: 0.9793 - val_loss: 0.0011 - val_accuracy: 0.9775\n",
            "Epoch 13/15\n",
            "10023/10023 [==============================] - 130s 13ms/step - loss: 0.0010 - accuracy: 0.9795 - val_loss: 0.0012 - val_accuracy: 0.9765\n",
            "Epoch 14/15\n",
            "10023/10023 [==============================] - 127s 13ms/step - loss: 0.0010 - accuracy: 0.9797 - val_loss: 0.0011 - val_accuracy: 0.9770\n",
            "Epoch 15/15\n",
            "10023/10023 [==============================] - 129s 13ms/step - loss: 9.9580e-04 - accuracy: 0.9802 - val_loss: 0.0012 - val_accuracy: 0.9760\n",
            "3931/3931 [==============================] - 18s 4ms/step - loss: 0.0011 - accuracy: 0.9768\n",
            "Test Loss: 0.0011485518189147115, Test Accuracy: 0.9767546057701111\n"
          ]
        }
      ]
    },
    {
      "cell_type": "code",
      "source": [
        "test_word_maktub = ''"
      ],
      "metadata": {
        "id": "a6grq3OxSsjn"
      },
      "execution_count": 17,
      "outputs": []
    },
    {
      "cell_type": "code",
      "source": [
        "# Build Training Report:\n",
        "\n",
        "from datetime import datetime\n",
        "\n",
        "now = datetime.now()\n",
        "\n",
        "current_date = now.strftime(\"%Y-%m-%d\")\n",
        "current_hour = now.hour\n",
        "current_minute = now.minute\n",
        "\n",
        "training_summary = f\"Report Time: {current_date} {current_hour:02d}:{current_minute:02d}\\n\"\n",
        "training_summary += f\"model type: {model_type} LSTM \\n\"\n",
        "training_summary += f\"max word length: {max_word_length}\\n\"\n",
        "training_summary += \"\\nHyper-parameters:\\n\"\n",
        "for key, value in hyper_param.items():\n",
        "  training_summary += f\"{key}: {value}\\n\"\n",
        "\n",
        "training_summary += \"\\nArchitechture:\\n\"\n",
        "\n",
        "\n",
        "string = \"\"\n",
        "i = 0\n",
        "for layer in model.layers:\n",
        "  if isinstance(layer, layers.Dense):\n",
        "    i+=1\n",
        "    model.layers[i].units\n",
        "    tmp = f\"{i+1} layer: {model.layers[i].units} units\\n\"\n",
        "    string += tmp\n",
        "training_summary += string\n",
        "training_summary += \"\\nModel score:\\n\"\n",
        "training_summary += f'Test Loss: {loss:.5f}, Test Accuracy: {accuracy:.2%}\\n'\n",
        "training_summary += \"\\nTraining logs:\\n\"\n",
        "training_summary += str(model.history)\n",
        "\n",
        "training_summary += '''Epoch 1/15\n",
        "10023/10023 [==============================] - 134s 13ms/step - loss: 0.0035 - accuracy: 0.9262 - val_loss: 0.0019 - val_accuracy: 0.9595\n",
        "Epoch 2/15\n",
        "10023/10023 [==============================] - 128s 13ms/step - loss: 0.0017 - accuracy: 0.9647 - val_loss: 0.0017 - val_accuracy: 0.9647\n",
        "Epoch 3/15\n",
        "10023/10023 [==============================] - 129s 13ms/step - loss: 0.0015 - accuracy: 0.9696 - val_loss: 0.0014 - val_accuracy: 0.9701\n",
        "Epoch 4/15\n",
        "10023/10023 [==============================] - 129s 13ms/step - loss: 0.0013 - accuracy: 0.9724 - val_loss: 0.0014 - val_accuracy: 0.9715\n",
        "Epoch 5/15\n",
        "10023/10023 [==============================] - 132s 13ms/step - loss: 0.0013 - accuracy: 0.9742 - val_loss: 0.0013 - val_accuracy: 0.9735\n",
        "Epoch 6/15\n",
        "10023/10023 [==============================] - 128s 13ms/step - loss: 0.0012 - accuracy: 0.9754 - val_loss: 0.0013 - val_accuracy: 0.9735\n",
        "Epoch 7/15\n",
        "10023/10023 [==============================] - 128s 13ms/step - loss: 0.0012 - accuracy: 0.9766 - val_loss: 0.0013 - val_accuracy: 0.9740\n",
        "Epoch 8/15\n",
        "10023/10023 [==============================] - 129s 13ms/step - loss: 0.0011 - accuracy: 0.9772 - val_loss: 0.0012 - val_accuracy: 0.9752\n",
        "Epoch 9/15\n",
        "10023/10023 [==============================] - 130s 13ms/step - loss: 0.0011 - accuracy: 0.9779 - val_loss: 0.0012 - val_accuracy: 0.9763\n",
        "Epoch 10/15\n",
        "10023/10023 [==============================] - 127s 13ms/step - loss: 0.0011 - accuracy: 0.9786 - val_loss: 0.0012 - val_accuracy: 0.9759\n",
        "Epoch 11/15\n",
        "10023/10023 [==============================] - 127s 13ms/step - loss: 0.0011 - accuracy: 0.9788 - val_loss: 0.0012 - val_accuracy: 0.9770\n",
        "Epoch 12/15\n",
        "10023/10023 [==============================] - 133s 13ms/step - loss: 0.0010 - accuracy: 0.9793 - val_loss: 0.0011 - val_accuracy: 0.9775\n",
        "Epoch 13/15\n",
        "10023/10023 [==============================] - 130s 13ms/step - loss: 0.0010 - accuracy: 0.9795 - val_loss: 0.0012 - val_accuracy: 0.9765\n",
        "Epoch 14/15\n",
        "10023/10023 [==============================] - 127s 13ms/step - loss: 0.0010 - accuracy: 0.9797 - val_loss: 0.0011 - val_accuracy: 0.9770\n",
        "Epoch 15/15\n",
        "10023/10023 [==============================] - 129s 13ms/step - loss: 9.9580e-04 - accuracy: 0.9802 - val_loss: 0.0012 - val_accuracy: 0.9760\n",
        "3931/3931 [==============================] - 18s 4ms/step - loss: 0.0011 - accuracy: 0.9768\n",
        "Test Loss: 0.0011485518189147115, Test Accuracy: 0.9767546057701111'''\n",
        "print(training_summary)\n",
        "\n",
        "with open(f'training_summary_{current_date} {current_hour:02d}:{current_minute:02d}.txt', 'w') as f:\n",
        "    f.write(training_summary)"
      ],
      "metadata": {
        "colab": {
          "base_uri": "https://localhost:8080/"
        },
        "id": "PVUpxVR3GSJX",
        "outputId": "a1265ea7-015e-4741-fde5-71c93e38f48b"
      },
      "execution_count": 16,
      "outputs": [
        {
          "output_type": "stream",
          "name": "stdout",
          "text": [
            "Report Time: 2024-03-27 17:17\n",
            "model type: full_char LSTM \n",
            "max word length: 8\n",
            "\n",
            "Hyper-parameters:\n",
            "num_epochs: 10\n",
            "loss_func: mean_squared_error\n",
            "lr: 0.01\n",
            "batch_size: 64\n",
            "test_size: 0.15\n",
            "activation_func: relu\n",
            "output_activation: linear\n",
            "validation_split: 0.1\n",
            "random_state: 42\n",
            "\n",
            "Architechture:\n",
            "\n",
            "Model score:\n",
            "Test Loss: 0.00115, Test Accuracy: 97.68%\n",
            "\n",
            "Training logs:\n",
            "<keras.src.callbacks.History object at 0x7f24644168c0>Epoch 1/15\n",
            "10023/10023 [==============================] - 134s 13ms/step - loss: 0.0035 - accuracy: 0.9262 - val_loss: 0.0019 - val_accuracy: 0.9595\n",
            "Epoch 2/15\n",
            "10023/10023 [==============================] - 128s 13ms/step - loss: 0.0017 - accuracy: 0.9647 - val_loss: 0.0017 - val_accuracy: 0.9647\n",
            "Epoch 3/15\n",
            "10023/10023 [==============================] - 129s 13ms/step - loss: 0.0015 - accuracy: 0.9696 - val_loss: 0.0014 - val_accuracy: 0.9701\n",
            "Epoch 4/15\n",
            "10023/10023 [==============================] - 129s 13ms/step - loss: 0.0013 - accuracy: 0.9724 - val_loss: 0.0014 - val_accuracy: 0.9715\n",
            "Epoch 5/15\n",
            "10023/10023 [==============================] - 132s 13ms/step - loss: 0.0013 - accuracy: 0.9742 - val_loss: 0.0013 - val_accuracy: 0.9735\n",
            "Epoch 6/15\n",
            "10023/10023 [==============================] - 128s 13ms/step - loss: 0.0012 - accuracy: 0.9754 - val_loss: 0.0013 - val_accuracy: 0.9735\n",
            "Epoch 7/15\n",
            "10023/10023 [==============================] - 128s 13ms/step - loss: 0.0012 - accuracy: 0.9766 - val_loss: 0.0013 - val_accuracy: 0.9740\n",
            "Epoch 8/15\n",
            "10023/10023 [==============================] - 129s 13ms/step - loss: 0.0011 - accuracy: 0.9772 - val_loss: 0.0012 - val_accuracy: 0.9752\n",
            "Epoch 9/15\n",
            "10023/10023 [==============================] - 130s 13ms/step - loss: 0.0011 - accuracy: 0.9779 - val_loss: 0.0012 - val_accuracy: 0.9763\n",
            "Epoch 10/15\n",
            "10023/10023 [==============================] - 127s 13ms/step - loss: 0.0011 - accuracy: 0.9786 - val_loss: 0.0012 - val_accuracy: 0.9759\n",
            "Epoch 11/15\n",
            "10023/10023 [==============================] - 127s 13ms/step - loss: 0.0011 - accuracy: 0.9788 - val_loss: 0.0012 - val_accuracy: 0.9770\n",
            "Epoch 12/15\n",
            "10023/10023 [==============================] - 133s 13ms/step - loss: 0.0010 - accuracy: 0.9793 - val_loss: 0.0011 - val_accuracy: 0.9775\n",
            "Epoch 13/15\n",
            "10023/10023 [==============================] - 130s 13ms/step - loss: 0.0010 - accuracy: 0.9795 - val_loss: 0.0012 - val_accuracy: 0.9765\n",
            "Epoch 14/15\n",
            "10023/10023 [==============================] - 127s 13ms/step - loss: 0.0010 - accuracy: 0.9797 - val_loss: 0.0011 - val_accuracy: 0.9770\n",
            "Epoch 15/15\n",
            "10023/10023 [==============================] - 129s 13ms/step - loss: 9.9580e-04 - accuracy: 0.9802 - val_loss: 0.0012 - val_accuracy: 0.9760\n",
            "3931/3931 [==============================] - 18s 4ms/step - loss: 0.0011 - accuracy: 0.9768\n",
            "Test Loss: 0.0011485518189147115, Test Accuracy: 0.9767546057701111\n"
          ]
        }
      ]
    },
    {
      "cell_type": "code",
      "source": [
        "model.layers"
      ],
      "metadata": {
        "colab": {
          "base_uri": "https://localhost:8080/"
        },
        "id": "qjK4b3soufD6",
        "outputId": "2a3bf14d-eeda-4da2-91b8-3298663c969e"
      },
      "execution_count": 22,
      "outputs": [
        {
          "output_type": "execute_result",
          "data": {
            "text/plain": [
              "[<keras.src.layers.rnn.lstm.LSTM at 0x7f632c655630>,\n",
              " <keras.src.layers.reshaping.repeat_vector.RepeatVector at 0x7f632c666c20>,\n",
              " <keras.src.layers.rnn.lstm.LSTM at 0x7f632c6839d0>,\n",
              " <keras.src.layers.rnn.time_distributed.TimeDistributed at 0x7f632c674100>]"
            ]
          },
          "metadata": {},
          "execution_count": 22
        }
      ]
    },
    {
      "cell_type": "code",
      "source": [],
      "metadata": {
        "id": "Ggnu2535uK1e"
      },
      "execution_count": null,
      "outputs": []
    },
    {
      "cell_type": "code",
      "source": [
        "# save model\n",
        "\n",
        "import pickle\n",
        "\n",
        "with open(f'lstm_{model_type}_{current_date} {current_hour:02d}:{current_minute:02d}.pkl', 'wb') as f:\n",
        "    pickle.dump(model, f)"
      ],
      "metadata": {
        "id": "580a4KOncMZ4"
      },
      "execution_count": 17,
      "outputs": []
    },
    {
      "cell_type": "code",
      "source": [
        "# download all files\n",
        "\n",
        "from google.colab import files\n",
        "\n",
        "files.download(f'/content/lstm_{model_type}_{current_date} {current_hour:02d}:{current_minute:02d}.pkl')\n",
        "\n",
        "files.download(f'/content/training_summary_{current_date} {current_hour:02d}:{current_minute:02d}.txt')\n",
        "\n",
        "#files.download('/content/word-root-table_side.xlsx')"
      ],
      "metadata": {
        "colab": {
          "base_uri": "https://localhost:8080/",
          "height": 17
        },
        "id": "Wn2z_FTcZg_y",
        "outputId": "16d783c6-f8ee-480f-828b-90a6723e62b9"
      },
      "execution_count": 18,
      "outputs": [
        {
          "output_type": "display_data",
          "data": {
            "text/plain": [
              "<IPython.core.display.Javascript object>"
            ],
            "application/javascript": [
              "\n",
              "    async function download(id, filename, size) {\n",
              "      if (!google.colab.kernel.accessAllowed) {\n",
              "        return;\n",
              "      }\n",
              "      const div = document.createElement('div');\n",
              "      const label = document.createElement('label');\n",
              "      label.textContent = `Downloading \"${filename}\": `;\n",
              "      div.appendChild(label);\n",
              "      const progress = document.createElement('progress');\n",
              "      progress.max = size;\n",
              "      div.appendChild(progress);\n",
              "      document.body.appendChild(div);\n",
              "\n",
              "      const buffers = [];\n",
              "      let downloaded = 0;\n",
              "\n",
              "      const channel = await google.colab.kernel.comms.open(id);\n",
              "      // Send a message to notify the kernel that we're ready.\n",
              "      channel.send({})\n",
              "\n",
              "      for await (const message of channel.messages) {\n",
              "        // Send a message to notify the kernel that we're ready.\n",
              "        channel.send({})\n",
              "        if (message.buffers) {\n",
              "          for (const buffer of message.buffers) {\n",
              "            buffers.push(buffer);\n",
              "            downloaded += buffer.byteLength;\n",
              "            progress.value = downloaded;\n",
              "          }\n",
              "        }\n",
              "      }\n",
              "      const blob = new Blob(buffers, {type: 'application/binary'});\n",
              "      const a = document.createElement('a');\n",
              "      a.href = window.URL.createObjectURL(blob);\n",
              "      a.download = filename;\n",
              "      div.appendChild(a);\n",
              "      a.click();\n",
              "      div.remove();\n",
              "    }\n",
              "  "
            ]
          },
          "metadata": {}
        },
        {
          "output_type": "display_data",
          "data": {
            "text/plain": [
              "<IPython.core.display.Javascript object>"
            ],
            "application/javascript": [
              "download(\"download_bfff0c9d-a845-41bd-9273-c5a5f5e04803\", \"lstm_full_char_2024-03-27 17:17.pkl\", 1078894)"
            ]
          },
          "metadata": {}
        },
        {
          "output_type": "display_data",
          "data": {
            "text/plain": [
              "<IPython.core.display.Javascript object>"
            ],
            "application/javascript": [
              "\n",
              "    async function download(id, filename, size) {\n",
              "      if (!google.colab.kernel.accessAllowed) {\n",
              "        return;\n",
              "      }\n",
              "      const div = document.createElement('div');\n",
              "      const label = document.createElement('label');\n",
              "      label.textContent = `Downloading \"${filename}\": `;\n",
              "      div.appendChild(label);\n",
              "      const progress = document.createElement('progress');\n",
              "      progress.max = size;\n",
              "      div.appendChild(progress);\n",
              "      document.body.appendChild(div);\n",
              "\n",
              "      const buffers = [];\n",
              "      let downloaded = 0;\n",
              "\n",
              "      const channel = await google.colab.kernel.comms.open(id);\n",
              "      // Send a message to notify the kernel that we're ready.\n",
              "      channel.send({})\n",
              "\n",
              "      for await (const message of channel.messages) {\n",
              "        // Send a message to notify the kernel that we're ready.\n",
              "        channel.send({})\n",
              "        if (message.buffers) {\n",
              "          for (const buffer of message.buffers) {\n",
              "            buffers.push(buffer);\n",
              "            downloaded += buffer.byteLength;\n",
              "            progress.value = downloaded;\n",
              "          }\n",
              "        }\n",
              "      }\n",
              "      const blob = new Blob(buffers, {type: 'application/binary'});\n",
              "      const a = document.createElement('a');\n",
              "      a.href = window.URL.createObjectURL(blob);\n",
              "      a.download = filename;\n",
              "      div.appendChild(a);\n",
              "      a.click();\n",
              "      div.remove();\n",
              "    }\n",
              "  "
            ]
          },
          "metadata": {}
        },
        {
          "output_type": "display_data",
          "data": {
            "text/plain": [
              "<IPython.core.display.Javascript object>"
            ],
            "application/javascript": [
              "download(\"download_a095f8b7-f724-4d18-adaf-d04b51a457e6\", \"training_summary_2024-03-27 17:17.txt\", 2814)"
            ]
          },
          "metadata": {}
        }
      ]
    }
  ]
}